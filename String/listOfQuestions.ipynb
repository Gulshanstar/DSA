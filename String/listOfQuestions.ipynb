{
 "cells": [
  {
   "cell_type": "markdown",
   "id": "52c5e48f",
   "metadata": {},
   "source": [
    "### 41.  Defanging the IP Address(L)"
   ]
  },
  {
   "cell_type": "code",
   "execution_count": 1,
   "id": "a80f1a3e",
   "metadata": {},
   "outputs": [
    {
     "name": "stdout",
     "output_type": "stream",
     "text": [
      "255[.]255[.]12[.]23\n"
     ]
    }
   ],
   "source": [
    "\n",
    "str = '255.255.12.23'\n",
    "ans = ''\n",
    "for i in range(len(str)):\n",
    "    if(str[i]=='.'):\n",
    "        ans += '[.]'\n",
    "    else:\n",
    "        ans += str[i]\n",
    "print(ans)"
   ]
  },
  {
   "cell_type": "code",
   "execution_count": 2,
   "id": "1febcb7f",
   "metadata": {},
   "outputs": [
    {
     "name": "stdout",
     "output_type": "stream",
     "text": [
      "gc\n"
     ]
    }
   ],
   "source": [
    "a = 'g'\n",
    "b = a+'c'\n",
    "print(b)"
   ]
  },
  {
   "cell_type": "markdown",
   "id": "c0f9fd96",
   "metadata": {},
   "source": [
    "### 42. Check if string is rotated by 2 places"
   ]
  },
  {
   "cell_type": "code",
   "execution_count": 3,
   "id": "696256b2",
   "metadata": {},
   "outputs": [],
   "source": [
    "def isRotated(self,s1,s2):\n",
    "#code here\n",
    "    r_ans = ''\n",
    "    k = 2\n",
    "    size = len(s1)\n",
    "    if size <=2:\n",
    "        if(s1 ==s2):\n",
    "            return True\n",
    "        else:\n",
    "            return False\n",
    "    for i in range(size-k,size):\n",
    "        r_ans += s1[i]\n",
    "        # print(r_ans)\n",
    "        for i in range(size-k):\n",
    "            r_ans += s1[i]\n",
    "        # print(r_ans)\n",
    "        r1_ans = ''\n",
    "        # k = 2\n",
    "        # size = len(s1)\n",
    "        for i in range(k,size):\n",
    "            r1_ans += s1[i]\n",
    "        # print(r_ans)\n",
    "        for i in range(k):\n",
    "            r1_ans += s1[i]\n",
    "        # print(r_ans)\n",
    "        if(s2 == r_ans or s2 ==r1_ans):\n",
    "            return True\n",
    "        else:\n",
    "            return False"
   ]
  },
  {
   "cell_type": "code",
   "execution_count": 4,
   "id": "8bc3e360",
   "metadata": {},
   "outputs": [
    {
     "name": "stdout",
     "output_type": "stream",
     "text": [
      "19\n"
     ]
    }
   ],
   "source": [
    "num = ord('t')-ord('a')\n",
    "print(num)"
   ]
  },
  {
   "cell_type": "markdown",
   "id": "782c4ff0",
   "metadata": {},
   "source": [
    "### 43). Check Pangram"
   ]
  },
  {
   "cell_type": "code",
   "execution_count": 5,
   "id": "8a29bc63",
   "metadata": {},
   "outputs": [
    {
     "name": "stdout",
     "output_type": "stream",
     "text": [
      "Not pangram\n"
     ]
    }
   ],
   "source": [
    "alpha = [0]*26\n",
    "# print(122(z)-97(a))\n",
    "str = \"leetcode\"\n",
    "for i in str:\n",
    "    number_code = ord(i)\n",
    "    if(alpha[number_code - ord('a')] != 1):\n",
    "        alpha[number_code - ord('a')] = 1\n",
    "\n",
    "for i in range(len(alpha)):\n",
    "    if(alpha[i] == 0):\n",
    "        print('Not pangram')\n",
    "        break"
   ]
  },
  {
   "cell_type": "markdown",
   "id": "cb78540a",
   "metadata": {},
   "source": [
    "### 44). Sort a String"
   ]
  },
  {
   "cell_type": "code",
   "execution_count": 6,
   "id": "b8b5f645",
   "metadata": {},
   "outputs": [
    {
     "name": "stdout",
     "output_type": "stream",
     "text": [
      "edcababcde\n"
     ]
    }
   ],
   "source": [
    "s = \"edcab\"\n",
    "ans = []\n",
    "str_ans = ''\n",
    "for i in s:\n",
    "    ans.append(ord(i))\n",
    "\n",
    "ans.sort() #inplace\n",
    "for i in range(len(ans)):\n",
    "    s += chr(ans[i])\n",
    "print(s)"
   ]
  },
  {
   "cell_type": "markdown",
   "id": "b489a1d5",
   "metadata": {},
   "source": [
    "### 45). Longest Palindrome"
   ]
  },
  {
   "cell_type": "code",
   "execution_count": 7,
   "id": "0036040c",
   "metadata": {},
   "outputs": [
    {
     "name": "stdout",
     "output_type": "stream",
     "text": [
      "c\n",
      "c\n",
      "c\n",
      "d\n"
     ]
    }
   ],
   "source": [
    "palin = \"abccccdd\"\n",
    "# Output --> ccdadcc\n",
    "ans = {}\n",
    "for i in palin:\n",
    "    if i in ans:\n",
    "        print(i)\n",
    "        ans[i] += 1\n",
    "    else:\n",
    "        ans[i] = 1\n",
    "count = 0\n",
    "for i in ans:\n",
    "    if(ans[i]%2 == 0):\n",
    "        count += ans[i]\n",
    "    else:\n",
    "        count += ans[i] - 1\n",
    "for i in ans:\n",
    "    if(ans[i]%2 != 0):\n",
    "        count +=1\n"
   ]
  },
  {
   "cell_type": "code",
   "execution_count": 8,
   "id": "d12bf5b2",
   "metadata": {},
   "outputs": [
    {
     "name": "stdout",
     "output_type": "stream",
     "text": [
      "#entence4\n",
      "Counter({'e': 3, 'n': 2, '#': 1, 't': 1, 'c': 1, '4': 1})\n"
     ]
    }
   ],
   "source": [
    "from collections import Counter\n",
    "s = \"sentence4\"\n",
    "s = s.replace('s','#')\n",
    "print(s)\n",
    "count_char = Counter(s)\n",
    "print(count_char)"
   ]
  },
  {
   "cell_type": "markdown",
   "id": "3137843d",
   "metadata": {},
   "source": [
    "### 46). Sorting the Sentence"
   ]
  },
  {
   "cell_type": "code",
   "execution_count": 9,
   "id": "5109827e",
   "metadata": {},
   "outputs": [
    {
     "name": "stdout",
     "output_type": "stream",
     "text": [
      "This is a sentence\n"
     ]
    }
   ],
   "source": [
    "s = \"is2 sentence4 This1 a3\"\n",
    "words = s.split()\n",
    "ans = {}\n",
    "for word in words:\n",
    "    index = word[-1]         # Get last character (the number)\n",
    "    ans[index] = word[:-1]   # Key = number, value = word (without number)\n",
    "\n",
    "# Sort the dictionary by key (as strings, but numerically ordered)\n",
    "sort_ans = dict(sorted(ans.items()))\n",
    "\n",
    "# Join the values\n",
    "final_ans = ' '.join(sort_ans.values())\n",
    "print(final_ans)"
   ]
  },
  {
   "cell_type": "markdown",
   "id": "b8ee0e09",
   "metadata": {},
   "source": [
    "### 47). Sort Vowel in String"
   ]
  },
  {
   "cell_type": "code",
   "execution_count": 10,
   "id": "905788e2",
   "metadata": {},
   "outputs": [],
   "source": [
    "# s = \"lEetcOde\"\n",
    "# lower_case = [0]*26\n",
    "# upper_case = [0]*26\n",
    "# for i in range(len(s)): #O(N)\n",
    "#     if('a' == s[i] or 'e' == s[i] or 'i' ==s[i] or 'o' == s[i] or 'u' == s[i]):\n",
    "#         lower_case[ord(s[i])-ord('a')] +=1\n",
    "#         s = s.replace(s[i],'#')\n",
    "#     if('A'== s[i] or 'E' == s[i] or 'I' == s[i] or 'O' == s[i] or 'U' == s[i]):\n",
    "#         upper_case[ord(s[i])-ord('A')] +=1\n",
    "#         s = s.replace(s[i],'#')\n",
    "# print(lower_case)\n",
    "# print(upper_case)\n",
    "# print(s)"
   ]
  },
  {
   "cell_type": "code",
   "execution_count": 11,
   "id": "492467a7",
   "metadata": {},
   "outputs": [
    {
     "name": "stdout",
     "output_type": "stream",
     "text": [
      "lEetcOde\n",
      "[0, 0, 0, 0, 2, 0, 0, 0, 0, 0, 0, 0, 0, 0, 0, 0, 0, 0, 0, 0, 0, 0, 0, 0, 0, 0]\n",
      "[0, 0, 0, 0, 1, 0, 0, 0, 0, 0, 0, 0, 0, 0, 1, 0, 0, 0, 0, 0, 0, 0, 0, 0, 0, 0]\n",
      "EOee\n",
      "['l', 'E', 'O', 't', 'c', 'e', 'd', 'e']\n",
      "Rearranged: lEOtcede\n"
     ]
    }
   ],
   "source": [
    "# find all Vowels in any String\n",
    "s = \"lEetcOde\"\n",
    "lower_case = [0]*26\n",
    "upper_case = [0]*26\n",
    "for i in range(len(s)): #O(N)\n",
    "    if('a' == s[i] or 'e' == s[i] or 'i' ==s[i] or 'o' == s[i] or 'u' == s[i]):\n",
    "        lower_case[ord(s[i])-ord('a')] +=1\n",
    "        # s = s.replace(s[i],'#')\n",
    "    if('A'== s[i] or 'E' == s[i] or 'I' == s[i] or 'O' == s[i] or 'U' == s[i]):\n",
    "        upper_case[ord(s[i])-ord('A')] +=1\n",
    "        # s = s.replace(s[i],'#')\n",
    "print(s)\n",
    "print(lower_case)\n",
    "print(upper_case)\n",
    "\n",
    "# store all vowels in ascending order\n",
    "all_vowels = ''\n",
    "for i in range(26):\n",
    "    while(upper_case[i]>0):\n",
    "        all_vowels += chr(ord('A')+i)\n",
    "        upper_case[i] -=1\n",
    "for i in range(26):\n",
    "    while(lower_case[i]>0):\n",
    "        all_vowels += chr(ord('a')+i)\n",
    "        lower_case[i] -=1 \n",
    "print(all_vowels)\n",
    "\n",
    "# rearrange the string\n",
    "sec = 0\n",
    "\n",
    "# Replace vowels in the original string\n",
    "s_list = list(s)  # Strings are immutable\n",
    "sec = 0\n",
    "\n",
    "for i in range(len(s_list)):\n",
    "    if s_list[i] in 'aeiouAEIOU':\n",
    "        s_list[i] = all_vowels[sec]\n",
    "        sec += 1\n",
    "\n",
    "# Join back to string\n",
    "s = ''.join(s_list)\n",
    "print(s_list)\n",
    "print(\"Rearranged:\", s)"
   ]
  },
  {
   "cell_type": "markdown",
   "id": "84a1000a",
   "metadata": {},
   "source": [
    "### 48). Add Strings"
   ]
  },
  {
   "cell_type": "code",
   "execution_count": null,
   "id": "3e622f3f",
   "metadata": {},
   "outputs": [],
   "source": []
  },
  {
   "cell_type": "markdown",
   "id": "52aade73",
   "metadata": {},
   "source": [
    "### 49). Roman to Integer"
   ]
  },
  {
   "cell_type": "code",
   "execution_count": 12,
   "id": "2d81cef0",
   "metadata": {},
   "outputs": [
    {
     "name": "stdout",
     "output_type": "stream",
     "text": [
      "<built-in function sum>\n",
      "1\n"
     ]
    }
   ],
   "source": [
    "mapping = {\n",
    "    'I' : 1,\n",
    "    'V' : 5,\n",
    "    'X' : 10,\n",
    "    'L' : 50,\n",
    "    'C' :100,\n",
    "    'D' : 500,\n",
    "    'M' : 1000\n",
    "}\n",
    "roman = 'I' \n",
    "# sum = mapping[roman[len(roman)-1]]\n",
    "print(sum)\n",
    "def romanToNumber(roman):\n",
    "    sum = mapping[roman[len(roman)-1]]\n",
    "    for i in range(len(roman)-2,-1,-1):\n",
    "        if(mapping[roman[i]]<mapping[roman[i+1]]):\n",
    "            sum +=-mapping[roman[i]]\n",
    "        else:\n",
    "            sum +=mapping[roman[i]]\n",
    "    return sum\n",
    "print(romanToNumber(roman=roman))\n"
   ]
  },
  {
   "cell_type": "markdown",
   "id": "844ad570",
   "metadata": {},
   "source": [
    "### 50). Integer to Roman"
   ]
  },
  {
   "cell_type": "code",
   "execution_count": 13,
   "id": "224059b3",
   "metadata": {},
   "outputs": [
    {
     "name": "stdout",
     "output_type": "stream",
     "text": [
      "MMMDCCXLIX\n"
     ]
    }
   ],
   "source": [
    "value_symbols = [\n",
    "            (1000, 'M'), (900, 'CM'), (500, 'D'), (400, 'CD'),\n",
    "            (100, 'C'), (90, 'XC'), (50, 'L'), (40, 'XL'), (10, 'X'),\n",
    "            (9, 'IX'), (5, 'V'), (4, 'IV'), (1, 'I')\n",
    "        ]\n",
    "        \n",
    "res = []\n",
    "num = 3749\n",
    "for value, symbol in value_symbols:\n",
    "    if(num == 0):\n",
    "        break\n",
    "    count = num // value\n",
    "    res.append(count*symbol)\n",
    "    num -= value*count\n",
    "ans = ''.join(res)\n",
    "print(ans)          "
   ]
  },
  {
   "cell_type": "markdown",
   "id": "0b02bba0",
   "metadata": {},
   "source": [
    "### 51). Factorial of large numbers"
   ]
  },
  {
   "cell_type": "code",
   "execution_count": 24,
   "id": "3d86576c",
   "metadata": {},
   "outputs": [
    {
     "name": "stdout",
     "output_type": "stream",
     "text": [
      "[4, 0, 3, 2, 0]\n"
     ]
    }
   ],
   "source": [
    "n = 8\n",
    "ans = [1]\n",
    "for i in range(n,1,-1):\n",
    "    carry = 0\n",
    "    temp_ans = 0\n",
    "    for j in range(len(ans)):\n",
    "        # print(f'{i} and {ans[j]}, {i * ans[j]}')\n",
    "        temp_ans = i * ans[j] + carry\n",
    "        carry = temp_ans // 10\n",
    "        ans[j] = temp_ans % 10\n",
    "    while(carry):\n",
    "        ans.append(carry%10)\n",
    "        carry //=10\n",
    "ans.reverse()\n",
    "print(ans)"
   ]
  },
  {
   "cell_type": "code",
   "execution_count": null,
   "id": "1dd82b32",
   "metadata": {},
   "outputs": [],
   "source": []
  }
 ],
 "metadata": {
  "kernelspec": {
   "display_name": "Python 3",
   "language": "python",
   "name": "python3"
  },
  "language_info": {
   "codemirror_mode": {
    "name": "ipython",
    "version": 3
   },
   "file_extension": ".py",
   "mimetype": "text/x-python",
   "name": "python",
   "nbconvert_exporter": "python",
   "pygments_lexer": "ipython3",
   "version": "3.12.4"
  }
 },
 "nbformat": 4,
 "nbformat_minor": 5
}
