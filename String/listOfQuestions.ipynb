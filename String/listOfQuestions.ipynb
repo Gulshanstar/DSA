{
 "cells": [
  {
   "cell_type": "markdown",
   "id": "52c5e48f",
   "metadata": {},
   "source": [
    "### 41.  Defanging the IP Address(L)"
   ]
  },
  {
   "cell_type": "code",
   "execution_count": null,
   "id": "a80f1a3e",
   "metadata": {},
   "outputs": [
    {
     "name": "stdout",
     "output_type": "stream",
     "text": [
      "255[.]255[.]12[.]23\n"
     ]
    }
   ],
   "source": [
    "\n",
    "str = '255.255.12.23'\n",
    "ans = ''\n",
    "for i in range(len(str)):\n",
    "    if(str[i]=='.'):\n",
    "        ans += '[.]'\n",
    "    else:\n",
    "        ans += str[i]\n",
    "print(ans)"
   ]
  },
  {
   "cell_type": "code",
   "execution_count": 8,
   "id": "1febcb7f",
   "metadata": {},
   "outputs": [
    {
     "name": "stdout",
     "output_type": "stream",
     "text": [
      "gc\n"
     ]
    }
   ],
   "source": [
    "a = 'g'\n",
    "b = a+'c'\n",
    "print(b)"
   ]
  },
  {
   "cell_type": "markdown",
   "id": "c0f9fd96",
   "metadata": {},
   "source": [
    "### 42. Check if string is rotated by 2 places"
   ]
  },
  {
   "cell_type": "code",
   "execution_count": null,
   "id": "696256b2",
   "metadata": {},
   "outputs": [
    {
     "name": "stdout",
     "output_type": "stream",
     "text": [
      "on\n",
      "onamaz\n"
     ]
    }
   ],
   "source": [
    "def isRotated(self,s1,s2):\n",
    "#code here\n",
    "    r_ans = ''\n",
    "    k = 2\n",
    "    size = len(s1)\n",
    "    if size <=2:\n",
    "        if(s1 ==s2):\n",
    "            return True\n",
    "        else:\n",
    "            return False\n",
    "    for i in range(size-k,size):\n",
    "        r_ans += s1[i]\n",
    "        # print(r_ans)\n",
    "        for i in range(size-k):\n",
    "            r_ans += s1[i]\n",
    "        # print(r_ans)\n",
    "        r1_ans = ''\n",
    "        # k = 2\n",
    "        # size = len(s1)\n",
    "        for i in range(k,size):\n",
    "            r1_ans += s1[i]\n",
    "        # print(r_ans)\n",
    "        for i in range(k):\n",
    "            r1_ans += s1[i]\n",
    "        # print(r_ans)\n",
    "        if(s2 == r_ans or s2 ==r1_ans):\n",
    "            return True\n",
    "        else:\n",
    "            return False"
   ]
  },
  {
   "cell_type": "code",
   "execution_count": null,
   "id": "8a29bc63",
   "metadata": {},
   "outputs": [
    {
     "name": "stdout",
     "output_type": "stream",
     "text": [
      "azon\n",
      "azonam\n"
     ]
    }
   ],
   "source": []
  }
 ],
 "metadata": {
  "kernelspec": {
   "display_name": "Python 3",
   "language": "python",
   "name": "python3"
  },
  "language_info": {
   "codemirror_mode": {
    "name": "ipython",
    "version": 3
   },
   "file_extension": ".py",
   "mimetype": "text/x-python",
   "name": "python",
   "nbconvert_exporter": "python",
   "pygments_lexer": "ipython3",
   "version": "3.12.4"
  }
 },
 "nbformat": 4,
 "nbformat_minor": 5
}
