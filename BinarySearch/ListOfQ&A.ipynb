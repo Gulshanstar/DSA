{
 "cells": [
  {
   "cell_type": "markdown",
   "id": "3d38b77f",
   "metadata": {},
   "source": [
    "### 1). First and last occurrance of element in sorted Array"
   ]
  },
  {
   "cell_type": "code",
   "execution_count": 257,
   "id": "fbe08db3",
   "metadata": {},
   "outputs": [
    {
     "name": "stdout",
     "output_type": "stream",
     "text": [
      "[3, 5]\n"
     ]
    }
   ],
   "source": [
    "# 1.1) Linear Search.\n",
    "arr = [5,7,7,8,8,8,10]\n",
    "target = 8\n",
    "first_occurrance = -1\n",
    "last_occurrance = -1\n",
    "ans = []\n",
    "for i in range(len(arr)):\n",
    "    if((target==arr[i]) and (first_occurrance==-1)):\n",
    "        first_occurrance = i\n",
    "\n",
    "    if(target==arr[i]):\n",
    "        last_occurrance = i\n",
    "ans.append(first_occurrance)\n",
    "ans.append(last_occurrance)\n",
    "print(ans)\n",
    "# linear search Tc:- O(N)"
   ]
  },
  {
   "cell_type": "code",
   "execution_count": 258,
   "id": "36baeec8",
   "metadata": {},
   "outputs": [
    {
     "name": "stdout",
     "output_type": "stream",
     "text": [
      "[3, 5]\n"
     ]
    }
   ],
   "source": [
    "# 1.2) Two pointer approach\n",
    "fs = 0\n",
    "fe = len(arr)-1\n",
    "fo = -1\n",
    "lo = -1\n",
    "ans1 = []\n",
    "while(fs<fe):\n",
    "    if(target==arr[fs]):\n",
    "        fo = fs\n",
    "        break\n",
    "    fs +=1\n",
    "\n",
    "while(fs<fe):\n",
    "    if(target==arr[fe]):\n",
    "        lo = fe\n",
    "        break\n",
    "    fe -=1\n",
    "\n",
    "ans1.append(fo)\n",
    "ans1.append(lo)\n",
    "print(ans1)\n"
   ]
  },
  {
   "cell_type": "code",
   "execution_count": 259,
   "id": "bc407285",
   "metadata": {},
   "outputs": [
    {
     "name": "stdout",
     "output_type": "stream",
     "text": [
      "[3, 5]\n"
     ]
    }
   ],
   "source": [
    "# 1.3) Using binary Search\n",
    "start = 0\n",
    "end = len(arr)-1\n",
    "leftmost = -1\n",
    "ans = [0]*2\n",
    "while(start<=end):\n",
    "    mid = start+(end-start)//2\n",
    "    if(target==arr[mid]):\n",
    "        leftmost = mid\n",
    "        end = mid-1\n",
    "    elif(target>arr[mid]):\n",
    "        start = mid+1\n",
    "    else:\n",
    "        end=mid-1\n",
    "\n",
    "start = 0\n",
    "end = len(arr)-1\n",
    "rightmost = -1\n",
    "while(start<=end):\n",
    "    mid = start+(end-start)//2\n",
    "    if(target==arr[mid]):\n",
    "        rightmost = mid\n",
    "        start = mid+1\n",
    "    elif(target>arr[mid]):\n",
    "        start = mid+1\n",
    "    else:\n",
    "        end=mid-1\n",
    "ans[0] = leftmost\n",
    "ans[1] = rightmost\n",
    "print(ans)"
   ]
  },
  {
   "cell_type": "markdown",
   "id": "8b249391",
   "metadata": {},
   "source": [
    "### 2). Search insert Position"
   ]
  },
  {
   "cell_type": "code",
   "execution_count": 260,
   "id": "f78ae352",
   "metadata": {},
   "outputs": [
    {
     "name": "stdout",
     "output_type": "stream",
     "text": [
      "3\n"
     ]
    }
   ],
   "source": [
    "#2.1) Linear search. TC:O(N), OC(Auxiliary Space): O(N)\n",
    "arr1 = [1,4,6,8,10,12,14,16]\n",
    "target = 7\n",
    "i=0\n",
    "while(arr1[i]<target):\n",
    "    i+=1\n",
    "print(i)"
   ]
  },
  {
   "cell_type": "code",
   "execution_count": 261,
   "id": "d65a7cf2",
   "metadata": {},
   "outputs": [
    {
     "name": "stdout",
     "output_type": "stream",
     "text": [
      "3\n"
     ]
    }
   ],
   "source": [
    "#2.2) Binary Search\n",
    "start = 0\n",
    "end = len(arr1) - 1\n",
    "ans=len(arr1)\n",
    "while start <= end:\n",
    "    mid = start + (end - start) // 2\n",
    "    if arr1[mid] == target:\n",
    "        ans=mid\n",
    "        break\n",
    "    elif target > arr1[mid]:\n",
    "        start = mid + 1\n",
    "    else:\n",
    "        end = mid - 1\n",
    "        ans=mid\n",
    "print(ans)\n",
    "           "
   ]
  },
  {
   "cell_type": "markdown",
   "id": "380a5bd3",
   "metadata": {},
   "source": [
    "### 3). Square Root Of x"
   ]
  },
  {
   "cell_type": "code",
   "execution_count": 262,
   "id": "5bee1943",
   "metadata": {},
   "outputs": [
    {
     "name": "stdout",
     "output_type": "stream",
     "text": [
      "8\n"
     ]
    }
   ],
   "source": [
    "#3.1) Squareroot of x\n",
    "# Squareroot(4):- 2\n",
    "# Squareroot(6):- 2\n",
    "target=79\n",
    "ans=-1\n",
    "for i in range(target+1):\n",
    "    if(i*i==target):\n",
    "        ans=i\n",
    "        break\n",
    "    if(i*i>target):\n",
    "        ans=i-1\n",
    "        break\n",
    "print(ans)"
   ]
  },
  {
   "cell_type": "code",
   "execution_count": 263,
   "id": "3be2d233",
   "metadata": {},
   "outputs": [
    {
     "name": "stdout",
     "output_type": "stream",
     "text": [
      "5\n"
     ]
    }
   ],
   "source": [
    "# 3.2)for binary search we need range i mean 1).start and end 2). array element must be in sorted order.\n",
    "start=0\n",
    "end=32\n",
    "target=32\n",
    "ans=-1\n",
    "while(start<=end):\n",
    "    mid=start+(end-start)//2\n",
    "    if(target==mid*mid):\n",
    "        ans=mid\n",
    "        break\n",
    "    elif(target<mid*mid):\n",
    "        end=mid-1\n",
    "    else:\n",
    "        ans=mid\n",
    "        start=mid+1\n",
    "print(ans)"
   ]
  },
  {
   "cell_type": "markdown",
   "id": "62d4cf26",
   "metadata": {},
   "source": [
    "### 4). Kth missing integer."
   ]
  },
  {
   "cell_type": "code",
   "execution_count": 264,
   "id": "7470783d",
   "metadata": {},
   "outputs": [
    {
     "name": "stdout",
     "output_type": "stream",
     "text": [
      "9\n"
     ]
    }
   ],
   "source": [
    "# 4.1) Linear search\n",
    "missing_array=[2,3,4,8,14,16]\n",
    "k=5\n",
    "count=0\n",
    "ans=-1\n",
    "def dundo(num,target)->bool:\n",
    "    for i in range(len(num)):\n",
    "        if(target==num[i]):\n",
    "            return True\n",
    "    return False\n",
    "\n",
    "i = 1\n",
    "while count < k:\n",
    "    if not dundo(missing_array, i):\n",
    "        count += 1\n",
    "        ans = i\n",
    "    i += 1\n",
    "print(ans)\n"
   ]
  },
  {
   "cell_type": "markdown",
   "id": "bc3b381a",
   "metadata": {},
   "source": [
    "### 5). Peak index in mountain"
   ]
  },
  {
   "cell_type": "code",
   "execution_count": 265,
   "id": "645cc961",
   "metadata": {},
   "outputs": [
    {
     "name": "stdout",
     "output_type": "stream",
     "text": [
      "10\n"
     ]
    }
   ],
   "source": [
    "# 5.1) Linear search method\n",
    "i=1\n",
    "peak=[2,4,6,8,10,8,5]\n",
    "while(peak[i-1]<peak[i]):\n",
    "    i+=1\n",
    "print(peak[i-1])"
   ]
  },
  {
   "cell_type": "code",
   "execution_count": 266,
   "id": "35d2e779",
   "metadata": {},
   "outputs": [
    {
     "name": "stdout",
     "output_type": "stream",
     "text": [
      "4\n"
     ]
    }
   ],
   "source": [
    "#  5.2) Using Binary Search\n",
    "start=0\n",
    "end=len(peak)-1\n",
    "ans=-1\n",
    "while(start<=end):\n",
    "    mid=start+(end-start)//2\n",
    "    if((peak[mid]>peak[mid-1]) and (peak[mid]>peak[mid+1])):\n",
    "        ans=mid\n",
    "        break\n",
    "    elif(peak[mid]<peak[mid+1]):\n",
    "        start=mid+1\n",
    "    else:\n",
    "        end=mid-1\n",
    "print(ans)"
   ]
  },
  {
   "cell_type": "markdown",
   "id": "8930b292",
   "metadata": {},
   "source": [
    "### 6). Find Minimum in Rotated Sorted Array"
   ]
  },
  {
   "cell_type": "code",
   "execution_count": null,
   "id": "c178cbc6",
   "metadata": {},
   "outputs": [
    {
     "name": "stdout",
     "output_type": "stream",
     "text": [
      "2\n"
     ]
    }
   ],
   "source": [
    "# 6.1) use min function \n",
    "# 6.2) Binary search concept\n",
    "rotated_min=[4,5,6,7,2,1,2]\n",
    "start=0\n",
    "end=len(rotated_min)-1\n",
    "ans=rotated_min[0]\n",
    "while(start<=end):\n",
    "    mid=start+(end-start)//2\n",
    "    if(rotated_min[mid] > rotated_min[0]):\n",
    "        start=mid+1\n",
    "    else:\n",
    "        ans=rotated_min[mid]\n",
    "        end=mid-1\n",
    "print(ans)"
   ]
  },
  {
   "cell_type": "code",
   "execution_count": null,
   "id": "541fb356",
   "metadata": {},
   "outputs": [],
   "source": []
  }
 ],
 "metadata": {
  "kernelspec": {
   "display_name": "Python 3",
   "language": "python",
   "name": "python3"
  },
  "language_info": {
   "codemirror_mode": {
    "name": "ipython",
    "version": 3
   },
   "file_extension": ".py",
   "mimetype": "text/x-python",
   "name": "python",
   "nbconvert_exporter": "python",
   "pygments_lexer": "ipython3",
   "version": "3.12.4"
  }
 },
 "nbformat": 4,
 "nbformat_minor": 5
}
