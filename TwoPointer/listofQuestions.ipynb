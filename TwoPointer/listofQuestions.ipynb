{
 "cells": [
  {
   "cell_type": "markdown",
   "id": "1ba403c7",
   "metadata": {},
   "source": [
    "### Two Pointer Questions"
   ]
  },
  {
   "cell_type": "markdown",
   "id": "2305208e",
   "metadata": {},
   "source": [
    "### 1). Segregate 0's and 1's."
   ]
  },
  {
   "cell_type": "code",
   "execution_count": 55,
   "id": "18760381",
   "metadata": {},
   "outputs": [
    {
     "name": "stdout",
     "output_type": "stream",
     "text": [
      "[1, 1, 1, 0, 0, 0]\n"
     ]
    }
   ],
   "source": [
    "# M1) Segregate 0's and 1's.\n",
    "arr=[1,0,0,1,0,1]\n",
    "count_1=0\n",
    "count_0=0\n",
    "for i in range(len(arr)):\n",
    "    if(arr[i]==1):\n",
    "        count_1+=1\n",
    "    else:\n",
    "        count_0+=1\n",
    "\n",
    "for i in range(count_1):\n",
    "    arr[i]=1\n",
    "\n",
    "for i in range(count_1, count_1+count_0):\n",
    "    arr[i]=0\n",
    "print(arr)\n"
   ]
  },
  {
   "cell_type": "code",
   "execution_count": 56,
   "id": "b7aae5d1",
   "metadata": {},
   "outputs": [
    {
     "name": "stdout",
     "output_type": "stream",
     "text": [
      "[0, 0, 0, 1, 1, 1]\n"
     ]
    }
   ],
   "source": [
    "# M2)\n",
    "i=0\n",
    "j=len(arr)-1\n",
    "while(i<j):\n",
    "    if(arr[i]==1 and arr[j]==0):\n",
    "        arr[i],arr[j]=arr[j],arr[i]\n",
    "    if(arr[i]==0):\n",
    "        i+=1\n",
    "    if(arr[j]==1):\n",
    "        j-=1\n",
    "print(arr)"
   ]
  },
  {
   "cell_type": "markdown",
   "id": "bb1a1f7d",
   "metadata": {},
   "source": [
    "### 2). Two Sum Input array is sorted"
   ]
  },
  {
   "cell_type": "code",
   "execution_count": 57,
   "id": "acd88dc0",
   "metadata": {},
   "outputs": [
    {
     "name": "stdout",
     "output_type": "stream",
     "text": [
      "we have got the target\n"
     ]
    }
   ],
   "source": [
    "# M1) TC:-O(n.n)\n",
    "two_sum=[2,7,11,15,27]\n",
    "sorted(two_sum)\n",
    "target=22\n",
    "for i in range(len(two_sum)-1):\n",
    "    for j in range(i+1,len(two_sum)):\n",
    "        sumi=two_sum[i]+two_sum[j]\n",
    "        if(target==sumi):\n",
    "            print('we have got the target')\n"
   ]
  },
  {
   "cell_type": "code",
   "execution_count": 58,
   "id": "64cedc89",
   "metadata": {},
   "outputs": [
    {
     "name": "stdout",
     "output_type": "stream",
     "text": [
      "mil gya 3\n"
     ]
    }
   ],
   "source": [
    "# M2) TC:- O(n.logn) if sorted then only\n",
    "for i in range(len(two_sum)-1):\n",
    "    new_target=target-two_sum[i]\n",
    "    start=i+1\n",
    "    end=len(two_sum)-1\n",
    "    while(start<=end):\n",
    "        mid=start+(end-start)//2\n",
    "        if(two_sum[mid]==new_target):\n",
    "            print(\"mil gya\",mid)\n",
    "            break\n",
    "        elif(two_sum[mid]>new_target):\n",
    "            end=mid-1\n",
    "        else:\n",
    "            start=mid+1\n"
   ]
  },
  {
   "cell_type": "code",
   "execution_count": 59,
   "id": "b02a341f",
   "metadata": {},
   "outputs": [
    {
     "name": "stdout",
     "output_type": "stream",
     "text": [
      "[2, 7, 11, 15, 27] None\n"
     ]
    }
   ],
   "source": [
    "ans=sorted(two_sum)\n",
    "ans1=two_sum.sort()\n",
    "print(ans,ans1)"
   ]
  },
  {
   "cell_type": "code",
   "execution_count": null,
   "id": "7b477dd2",
   "metadata": {},
   "outputs": [],
   "source": [
    "# M3) TC: O(logn)\n",
    "i=0\n",
    "j=len(two_sum)-1\n",
    "while(i<j):\n",
    "    if(two_sum[i]+two_sum[j]==target):\n",
    "        return [i+1,j+1]\n",
    "    elif(two_sum[i]+two_sum[j]>target):\n",
    "        j-=1\n",
    "    else:\n",
    "        i+=1\n",
    "\n"
   ]
  },
  {
   "cell_type": "markdown",
   "id": "9cd6da78",
   "metadata": {},
   "source": [
    "### 3). Pair with given difference."
   ]
  },
  {
   "cell_type": "code",
   "execution_count": null,
   "id": "e93e0252",
   "metadata": {},
   "outputs": [],
   "source": []
  },
  {
   "cell_type": "code",
   "execution_count": null,
   "id": "6f40682f",
   "metadata": {},
   "outputs": [],
   "source": []
  },
  {
   "cell_type": "code",
   "execution_count": null,
   "id": "f04581fd",
   "metadata": {},
   "outputs": [],
   "source": []
  },
  {
   "cell_type": "code",
   "execution_count": null,
   "id": "69f4edd9",
   "metadata": {},
   "outputs": [],
   "source": []
  }
 ],
 "metadata": {
  "kernelspec": {
   "display_name": "Python 3",
   "language": "python",
   "name": "python3"
  },
  "language_info": {
   "codemirror_mode": {
    "name": "ipython",
    "version": 3
   },
   "file_extension": ".py",
   "mimetype": "text/x-python",
   "name": "python",
   "nbconvert_exporter": "python",
   "pygments_lexer": "ipython3",
   "version": "3.12.4"
  }
 },
 "nbformat": 4,
 "nbformat_minor": 5
}
