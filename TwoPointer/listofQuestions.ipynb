{
 "cells": [
  {
   "cell_type": "markdown",
   "id": "1ba403c7",
   "metadata": {},
   "source": [
    "### Two Pointer Questions"
   ]
  },
  {
   "cell_type": "code",
   "execution_count": 4,
   "id": "18760381",
   "metadata": {},
   "outputs": [
    {
     "name": "stdout",
     "output_type": "stream",
     "text": [
      "[1, 1, 1, 0, 0, 0]\n"
     ]
    }
   ],
   "source": [
    "# M1) Segregate 0's and 1's.\n",
    "arr=[1,0,0,1,0,1]\n",
    "count_1=0\n",
    "count_0=0\n",
    "for i in range(len(arr)):\n",
    "    if(arr[i]==1):\n",
    "        count_1+=1\n",
    "    else:\n",
    "        count_0+=1\n",
    "\n",
    "for i in range(count_1):\n",
    "    arr[i]=1\n",
    "\n",
    "for i in range(count_1, count_1+count_0):\n",
    "    arr[i]=0\n",
    "print(arr)\n"
   ]
  },
  {
   "cell_type": "code",
   "execution_count": null,
   "id": "b7aae5d1",
   "metadata": {},
   "outputs": [
    {
     "name": "stdout",
     "output_type": "stream",
     "text": [
      "[0, 0, 0, 1, 1, 1]\n"
     ]
    }
   ],
   "source": [
    "# M2)\n",
    "    i=0\n",
    "    j=len(arr)-1\n",
    "    while(i<j):\n",
    "        if(arr[i]==1 and arr[j]==0):\n",
    "            arr[i],arr[j]=arr[j],arr[i]\n",
    "        if(arr[i]==0):\n",
    "            i+=1\n",
    "        if(arr[j]==1):\n",
    "            j-=1\n",
    "    print(arr)\n"
   ]
  },
  {
   "cell_type": "code",
   "execution_count": null,
   "id": "acd88dc0",
   "metadata": {},
   "outputs": [],
   "source": []
  },
  {
   "cell_type": "code",
   "execution_count": null,
   "id": "64cedc89",
   "metadata": {},
   "outputs": [],
   "source": []
  },
  {
   "cell_type": "code",
   "execution_count": null,
   "id": "b02a341f",
   "metadata": {},
   "outputs": [],
   "source": []
  },
  {
   "cell_type": "code",
   "execution_count": null,
   "id": "7b477dd2",
   "metadata": {},
   "outputs": [],
   "source": []
  },
  {
   "cell_type": "code",
   "execution_count": null,
   "id": "e93e0252",
   "metadata": {},
   "outputs": [],
   "source": []
  },
  {
   "cell_type": "code",
   "execution_count": null,
   "id": "6f40682f",
   "metadata": {},
   "outputs": [],
   "source": []
  },
  {
   "cell_type": "code",
   "execution_count": null,
   "id": "f04581fd",
   "metadata": {},
   "outputs": [],
   "source": []
  },
  {
   "cell_type": "code",
   "execution_count": null,
   "id": "69f4edd9",
   "metadata": {},
   "outputs": [],
   "source": []
  }
 ],
 "metadata": {
  "kernelspec": {
   "display_name": "Python 3",
   "language": "python",
   "name": "python3"
  },
  "language_info": {
   "codemirror_mode": {
    "name": "ipython",
    "version": 3
   },
   "file_extension": ".py",
   "mimetype": "text/x-python",
   "name": "python",
   "nbconvert_exporter": "python",
   "pygments_lexer": "ipython3",
   "version": "3.12.4"
  }
 },
 "nbformat": 4,
 "nbformat_minor": 5
}
