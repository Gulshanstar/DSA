{
 "cells": [
  {
   "cell_type": "markdown",
   "id": "e9fe6912",
   "metadata": {},
   "source": [
    "### 0). Column major form"
   ]
  },
  {
   "cell_type": "code",
   "execution_count": 26,
   "id": "b4d48c1e",
   "metadata": {},
   "outputs": [],
   "source": [
    "# Column major form\n",
    "matrix=[[1,2,3],[4,5,6],[7,8,9]]\n",
    "ans=[]"
   ]
  },
  {
   "cell_type": "code",
   "execution_count": 27,
   "id": "1c4dbe53",
   "metadata": {},
   "outputs": [
    {
     "ename": "NameError",
     "evalue": "name 's' is not defined",
     "output_type": "error",
     "traceback": [
      "\u001b[0;31m---------------------------------------------------------------------------\u001b[0m",
      "\u001b[0;31mNameError\u001b[0m                                 Traceback (most recent call last)",
      "Cell \u001b[0;32mIn[27], line 2\u001b[0m\n\u001b[1;32m      1\u001b[0m \u001b[38;5;28;01mfor\u001b[39;00m i \u001b[38;5;129;01min\u001b[39;00m \u001b[38;5;28mrange\u001b[39m(\u001b[38;5;28mlen\u001b[39m(matrix[\u001b[38;5;241m0\u001b[39m])):\n\u001b[0;32m----> 2\u001b[0m     \u001b[38;5;28;01mfor\u001b[39;00m j \u001b[38;5;129;01min\u001b[39;00m \u001b[38;5;28mrange\u001b[39m(\u001b[43ms\u001b[49m):\n\u001b[1;32m      3\u001b[0m         ans\u001b[38;5;241m.\u001b[39mappend(matrix[j][i])\n\u001b[1;32m      4\u001b[0m \u001b[38;5;28mprint\u001b[39m(ans)\n",
      "\u001b[0;31mNameError\u001b[0m: name 's' is not defined"
     ]
    }
   ],
   "source": [
    "for i in range(len(matrix[0])):\n",
    "    for j in range(s):\n",
    "        ans.append(matrix[j][i])\n",
    "print(ans)"
   ]
  },
  {
   "cell_type": "markdown",
   "id": "13c60271",
   "metadata": {},
   "source": [
    "### 1). Wave Form"
   ]
  },
  {
   "cell_type": "code",
   "execution_count": null,
   "id": "21211215",
   "metadata": {},
   "outputs": [
    {
     "name": "stdout",
     "output_type": "stream",
     "text": [
      "[1, 4, 7, 8, 5, 2, 3, 6, 9]\n"
     ]
    }
   ],
   "source": [
    "wave_ans=[]\n",
    "for i in range(len(matrix[0])):\n",
    "    if(i%2==0):\n",
    "        for j in range(s):\n",
    "            wave_ans.append(matrix[j][i])\n",
    "    else:\n",
    "        for j in range(s-1,-1,-1):\n",
    "            wave_ans.append(matrix[j][i])\n",
    "print(wave_ans)\n"
   ]
  },
  {
   "cell_type": "markdown",
   "id": "65682d42",
   "metadata": {},
   "source": [
    "### 2). Spiral Form"
   ]
  },
  {
   "cell_type": "code",
   "execution_count": null,
   "id": "46eefb15",
   "metadata": {},
   "outputs": [
    {
     "name": "stdout",
     "output_type": "stream",
     "text": [
      "[1, 2, 3, 4, 5, 6, 12, 18, 24, 30, 29, 28, 27, 26, 25, 19, 13, 7, 8, 9, 10, 11, 17, 23, 22, 21, 20, 14, 15, 16]\n"
     ]
    }
   ],
   "source": [
    "sf = [\n",
    "    [1,  2,  3,  4,  5,  6],\n",
    "    [7,  8,  9, 10, 11, 12],\n",
    "    [13, 14, 15, 16, 17, 18],\n",
    "    [19, 20, 21, 22, 23, 24],\n",
    "    [25, 26, 27, 28, 29, 30]\n",
    "    \n",
    "]\n",
    "top=0\n",
    "right=len(sf[0])-1\n",
    "bottom=len(sf)-1\n",
    "left=0\n",
    "sf_ans=[]\n",
    "while(top<=bottom and left<=right):\n",
    "    for i in range(left,right+1):\n",
    "        sf_ans.append(sf[top][i])\n",
    "    top+=1\n",
    "    for i in range(top,bottom+1):\n",
    "        sf_ans.append(sf[i][right])\n",
    "    right-=1\n",
    "    if(top<=bottom):\n",
    "        for i in range(right,left-1,-1):\n",
    "            sf_ans.append(sf[bottom][i])\n",
    "        bottom-=1\n",
    "    if(left<=right):\n",
    "        for i in range(bottom,top-1,-1):\n",
    "            sf_ans.append(sf[i][left])\n",
    "        left+=1\n",
    "print(sf_ans)\n"
   ]
  },
  {
   "cell_type": "markdown",
   "id": "e517f36a",
   "metadata": {},
   "source": [
    "### 3). Transpose Matrix"
   ]
  },
  {
   "cell_type": "code",
   "execution_count": null,
   "id": "d6aea3ab",
   "metadata": {},
   "outputs": [
    {
     "name": "stdout",
     "output_type": "stream",
     "text": [
      "[[1, 7, 13, 19, 25], [2, 8, 14, 20, 26], [3, 9, 15, 21, 27], [4, 10, 16, 22, 28], [5, 11, 17, 23, 29]]\n"
     ]
    }
   ],
   "source": [
    "# Square matrix \n",
    "tm = [\n",
    "    [1,  2,  3,  4,  5],\n",
    "    [7,  8,  9, 10, 11],\n",
    "    [13, 14, 15, 16, 17],\n",
    "    [19, 20, 21, 22, 23],\n",
    "    [25, 26, 27, 28, 29]\n",
    "    \n",
    "]\n",
    "\n",
    "r_size=len(tm)\n",
    "c_size=len(tm[0])\n",
    "for i in range(r_size):\n",
    "    for j in range(i,c_size):\n",
    "        temp=tm[i][j]\n",
    "        tm[i][j]=tm[j][i]\n",
    "        tm[j][i]=temp\n",
    "print(tm)"
   ]
  },
  {
   "cell_type": "code",
   "execution_count": null,
   "id": "ebe28fe0",
   "metadata": {},
   "outputs": [
    {
     "name": "stdout",
     "output_type": "stream",
     "text": [
      "[[1, 7, 13, 19, 25], [2, 8, 14, 20, 26]]\n"
     ]
    }
   ],
   "source": [
    "# Not Square matrix\n",
    "tm = [\n",
    "    [1,  2],\n",
    "    [7,  8],\n",
    "    [13, 14],\n",
    "    [19, 20],\n",
    "    [25, 26]\n",
    "    \n",
    "]\n",
    "r_size=len(tm)\n",
    "c_size=len(tm[0])\n",
    "val=tm[0][0]\n",
    "rm=[[val]*r_size for i in range(c_size)]\n",
    "rm\n",
    "for i in range(r_size):\n",
    "    for j in range(c_size):\n",
    "        rm[j][i]=tm[i][j]\n",
    "print(rm)"
   ]
  },
  {
   "cell_type": "markdown",
   "id": "13db5d93",
   "metadata": {},
   "source": [
    "### 4). Rotate 90 degree(ClockWise)"
   ]
  },
  {
   "cell_type": "code",
   "execution_count": null,
   "id": "cf3098b5",
   "metadata": {},
   "outputs": [
    {
     "name": "stdout",
     "output_type": "stream",
     "text": [
      "[[25, 19, 13, 7, 1], [26, 20, 14, 8, 2], [27, 21, 15, 9, 3], [28, 22, 16, 10, 4], [29, 23, 17, 11, 5]]\n"
     ]
    }
   ],
   "source": [
    "matrix = [\n",
    "    [1,  2,  3,  4,  5],\n",
    "    [7,  8,  9, 10, 11],\n",
    "    [13, 14, 15, 16, 17],\n",
    "    [19, 20, 21, 22, 23],\n",
    "    [25, 26, 27, 28, 29]\n",
    "    \n",
    "]\n",
    "\n",
    "# Transpose the matrix first\n",
    "for i in range(s-1):\n",
    "    for j in range(i+1,len(matrix[0])):\n",
    "        temp=matrix[i][j]\n",
    "        matrix[i][j]=matrix[j][i]\n",
    "        matrix[j][i]=temp\n",
    "\n",
    "# Reverse the martix row-wise\n",
    "for i in range(s):\n",
    "    for j in range(len(matrix[0])//2):\n",
    "        matrix[i][j], matrix[i][len(matrix[0])-1-j]=matrix[i][len(matrix[0])-1-j],matrix[i][j] \n",
    "print(matrix)"
   ]
  },
  {
   "cell_type": "markdown",
   "id": "c333fe26",
   "metadata": {},
   "source": [
    "### 5). Rotate 90 degree(Anit-ClockWise)"
   ]
  },
  {
   "cell_type": "code",
   "execution_count": null,
   "id": "191e81c6",
   "metadata": {},
   "outputs": [
    {
     "name": "stdout",
     "output_type": "stream",
     "text": [
      "[[1, 5, 9, 13], [2, 6, 10, 14], [3, 7, 11, 15], [4, 8, 12, 16]]\n",
      "[[4, 8, 12, 16], [3, 7, 11, 15], [2, 6, 10, 14], [1, 5, 9, 13]]\n"
     ]
    }
   ],
   "source": [
    "matrix = [\n",
    "    [1, 2, 3, 4],\n",
    "    [5, 6, 7, 8],\n",
    "    [9, 10, 11, 12],\n",
    "    [13, 14, 15, 16]\n",
    "]\n",
    "s=len(matrix)\n",
    "# Transpose the matrix first\n",
    "for i in range(s-1):\n",
    "    for j in range(i+1,s):\n",
    "        temp=matrix[i][j]\n",
    "        matrix[i][j]=matrix[j][i]\n",
    "        matrix[j][i]=temp\n",
    "print(matrix)\n",
    "# Reverse the martix row-wise\n",
    "for i in range(s):\n",
    "    for j in range(s//2):\n",
    "        matrix[j][i],matrix[s-1-j][i] = matrix[s-1-j][i],matrix[j][i]\n",
    "print(matrix)       "
   ]
  },
  {
   "cell_type": "markdown",
   "id": "6a681911",
   "metadata": {},
   "source": [
    "### 6). Matrix Rotation by 180 degree"
   ]
  },
  {
   "cell_type": "code",
   "execution_count": null,
   "id": "56296c68",
   "metadata": {},
   "outputs": [
    {
     "name": "stdout",
     "output_type": "stream",
     "text": [
      "[[16, 15, 14, 13], [12, 11, 10, 9], [8, 7, 6, 5], [4, 3, 2, 1]]\n"
     ]
    }
   ],
   "source": [
    "mat_180 = [\n",
    "    [1, 2, 3, 4],\n",
    "    [5, 6, 7, 8],\n",
    "    [9, 10, 11, 12],\n",
    "    [13, 14, 15, 16]\n",
    "]\n",
    "r_180=len(mat_180)\n",
    "c_180=len(mat_180[0])\n",
    "for i in range(r_180):\n",
    "    start=0\n",
    "    end=r_180-1\n",
    "    while(start<end):\n",
    "        mat_180[start][i], mat_180[end][i] = mat_180[end][i], mat_180[start][i]\n",
    "        start+=1\n",
    "        end-=1\n",
    "for i in range(c_180):\n",
    "    start2 = 0\n",
    "    end2 = c_180-1\n",
    "    while(start2<end2):\n",
    "        mat_180[i][start2], mat_180[i][end2] = mat_180[i][end2], mat_180[i][start2]\n",
    "        start2=+1\n",
    "        end2-=1\n",
    "print(mat_180)\n",
    "\n",
    "    "
   ]
  },
  {
   "cell_type": "markdown",
   "id": "00ed9c3c",
   "metadata": {},
   "source": [
    "### 7). Binary search in 2D Array"
   ]
  },
  {
   "cell_type": "code",
   "execution_count": null,
   "id": "d69936ac",
   "metadata": {},
   "outputs": [
    {
     "name": "stdout",
     "output_type": "stream",
     "text": [
      "Mil gya 15\n"
     ]
    }
   ],
   "source": [
    "# M1). TC: O(n+logn), SC: O(1)\n",
    "bs = [\n",
    "    [1, 2, 3, 4],\n",
    "    [5, 6, 7, 8],\n",
    "    [9, 10, 11, 12],\n",
    "    [13, 14, 15, 16]\n",
    "]\n",
    "\n",
    "r = len(bs)\n",
    "c = len(bs[0])\n",
    "target=15\n",
    "for i in range(r):  #O(n)\n",
    "    if(bs[i][0]<target<bs[i][r-1]):\n",
    "        start=0\n",
    "        end=c-1\n",
    "        while(start<end):  #O(logn)\n",
    "            mid=start+(end-start)//2\n",
    "            if(bs[i][mid] == target):\n",
    "                print(\"Mil gya\", bs[i][mid])\n",
    "                break\n",
    "            elif(bs[i][mid] > target):\n",
    "                end=mid-1\n",
    "            else:\n",
    "                start=mid+1"
   ]
  },
  {
   "cell_type": "code",
   "execution_count": null,
   "id": "073888a7",
   "metadata": {},
   "outputs": [
    {
     "name": "stdout",
     "output_type": "stream",
     "text": [
      "Mil Gya 16 3 3\n"
     ]
    }
   ],
   "source": [
    "# M2). TC: O(logn)\n",
    "bso = [\n",
    "    [1, 2, 3, 4],\n",
    "    [5, 6, 7, 8],\n",
    "    [9, 10, 11, 12],\n",
    "    [13, 14, 15, 16]\n",
    "]\n",
    "start = 0\n",
    "rl = len(bso)\n",
    "cl = len(bso[0])\n",
    "end = (rl*cl)-1\n",
    "target=16\n",
    "while(start<=end):\n",
    "    mid = start+(end-start)//2\n",
    "    row_index = mid // cl\n",
    "    col_index = mid % cl\n",
    "    if(bso[row_index][col_index] == target):\n",
    "        print(\"Mil Gya\",bso[row_index][col_index], row_index, col_index)\n",
    "        break\n",
    "    elif(bso[row_index][col_index]> target):\n",
    "        end = mid-1\n",
    "    else:\n",
    "        start=mid+1"
   ]
  },
  {
   "cell_type": "markdown",
   "id": "88cf6874",
   "metadata": {},
   "source": [
    "### 8). Search in a Row-Column sorted matrix"
   ]
  },
  {
   "cell_type": "code",
   "execution_count": null,
   "id": "91bf12ba",
   "metadata": {},
   "outputs": [
    {
     "name": "stdout",
     "output_type": "stream",
     "text": [
      "[[1, 5, 9, 11], [14, 20, 21, 26], [30, 34, 43, 50]]\n"
     ]
    }
   ],
   "source": [
    "mat=[[1, 5, 9, 11], [14, 20, 21, 26], [30, 34, 43, 50]]\n",
    "rs = len(mat)\n",
    "cs = len(mat[0])\n",
    "i = 0\n",
    "j = cs-1\n",
    "# TC: O(rs+cs), SC: O(1)\n",
    "while(i<rs or j>0):\n",
    "    if(mat[i][j] == target):\n",
    "        print(\"Mil gya\")\n",
    "        break\n",
    "    elif(mat[i][j]>target):\n",
    "        j-=1\n",
    "    else:\n",
    "        j+=1\n"
   ]
  },
  {
   "cell_type": "markdown",
   "id": "73720ef0",
   "metadata": {},
   "source": [
    "### 9). Find missing and Repeating"
   ]
  },
  {
   "cell_type": "code",
   "execution_count": 29,
   "id": "9c466cbd",
   "metadata": {},
   "outputs": [
    {
     "ename": "KeyError",
     "evalue": "1",
     "output_type": "error",
     "traceback": [
      "\u001b[0;31m---------------------------------------------------------------------------\u001b[0m",
      "\u001b[0;31mKeyError\u001b[0m                                  Traceback (most recent call last)",
      "Cell \u001b[0;32mIn[29], line 9\u001b[0m\n\u001b[1;32m      7\u001b[0m     \u001b[38;5;28;01mfor\u001b[39;00m j \u001b[38;5;129;01min\u001b[39;00m \u001b[38;5;28mrange\u001b[39m(size):\n\u001b[1;32m      8\u001b[0m         \u001b[38;5;28;01mif\u001b[39;00m(i\u001b[38;5;241m==\u001b[39mmr[j]):\n\u001b[0;32m----> 9\u001b[0m             \u001b[43mans\u001b[49m\u001b[43m[\u001b[49m\u001b[43mi\u001b[49m\u001b[43m]\u001b[49m \u001b[38;5;241m+\u001b[39m\u001b[38;5;241m=\u001b[39m\u001b[38;5;241m1\u001b[39m\n\u001b[1;32m     10\u001b[0m \u001b[38;5;28mprint\u001b[39m(ans)\n",
      "\u001b[0;31mKeyError\u001b[0m: 1"
     ]
    }
   ],
   "source": [
    "mr = [4,3,2,1,2,7,6]\n",
    "\n",
    "# Find the missing value\n",
    "size = len(mr)\n",
    "ans = {}\n",
    "for i in range(1, size+1):\n",
    "    for j in range(size):\n",
    "        if(i==mr[j]):\n",
    "            ans[i] +=1\n",
    "print(ans)"
   ]
  },
  {
   "cell_type": "code",
   "execution_count": null,
   "id": "d7f3ac47",
   "metadata": {},
   "outputs": [],
   "source": []
  },
  {
   "cell_type": "code",
   "execution_count": null,
   "id": "8daddbb0",
   "metadata": {},
   "outputs": [],
   "source": []
  }
 ],
 "metadata": {
  "kernelspec": {
   "display_name": "Python 3",
   "language": "python",
   "name": "python3"
  },
  "language_info": {
   "codemirror_mode": {
    "name": "ipython",
    "version": 3
   },
   "file_extension": ".py",
   "mimetype": "text/x-python",
   "name": "python",
   "nbconvert_exporter": "python",
   "pygments_lexer": "ipython3",
   "version": "3.12.4"
  }
 },
 "nbformat": 4,
 "nbformat_minor": 5
}
