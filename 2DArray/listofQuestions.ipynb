{
 "cells": [
  {
   "cell_type": "markdown",
   "id": "e9fe6912",
   "metadata": {},
   "source": [
    "### 0). Column major form"
   ]
  },
  {
   "cell_type": "code",
   "execution_count": 52,
   "id": "b4d48c1e",
   "metadata": {},
   "outputs": [],
   "source": [
    "# Column major form\n",
    "matrix=[[1,2,3],[4,5,6],[7,8,9]]\n",
    "ans=[]"
   ]
  },
  {
   "cell_type": "code",
   "execution_count": null,
   "id": "1c4dbe53",
   "metadata": {},
   "outputs": [
    {
     "name": "stdout",
     "output_type": "stream",
     "text": [
      "[1, 4, 7, 2, 5, 8, 3, 6, 9]\n"
     ]
    }
   ],
   "source": [
    "for i in range(len(matrix[0])):\n",
    "    for j in range(s):\n",
    "        ans.append(matrix[j][i])\n",
    "print(ans)"
   ]
  },
  {
   "cell_type": "markdown",
   "id": "13c60271",
   "metadata": {},
   "source": [
    "### 1). Wave Form"
   ]
  },
  {
   "cell_type": "code",
   "execution_count": null,
   "id": "21211215",
   "metadata": {},
   "outputs": [
    {
     "name": "stdout",
     "output_type": "stream",
     "text": [
      "[1, 4, 7, 8, 5, 2, 3, 6, 9]\n"
     ]
    }
   ],
   "source": [
    "wave_ans=[]\n",
    "for i in range(len(matrix[0])):\n",
    "    if(i%2==0):\n",
    "        for j in range(s):\n",
    "            wave_ans.append(matrix[j][i])\n",
    "    else:\n",
    "        for j in range(s-1,-1,-1):\n",
    "            wave_ans.append(matrix[j][i])\n",
    "print(wave_ans)\n"
   ]
  },
  {
   "cell_type": "markdown",
   "id": "65682d42",
   "metadata": {},
   "source": [
    "### 2). Spiral Form"
   ]
  },
  {
   "cell_type": "code",
   "execution_count": 55,
   "id": "46eefb15",
   "metadata": {},
   "outputs": [
    {
     "name": "stdout",
     "output_type": "stream",
     "text": [
      "[1, 2, 3, 4, 5, 6, 12, 18, 24, 30, 29, 28, 27, 26, 25, 19, 13, 7, 8, 9, 10, 11, 17, 23, 22, 21, 20, 14, 15, 16]\n"
     ]
    }
   ],
   "source": [
    "sf = [\n",
    "    [1,  2,  3,  4,  5,  6],\n",
    "    [7,  8,  9, 10, 11, 12],\n",
    "    [13, 14, 15, 16, 17, 18],\n",
    "    [19, 20, 21, 22, 23, 24],\n",
    "    [25, 26, 27, 28, 29, 30]\n",
    "    \n",
    "]\n",
    "top=0\n",
    "right=len(sf[0])-1\n",
    "bottom=len(sf)-1\n",
    "left=0\n",
    "sf_ans=[]\n",
    "while(top<=bottom and left<=right):\n",
    "    for i in range(left,right+1):\n",
    "        sf_ans.append(sf[top][i])\n",
    "    top+=1\n",
    "    for i in range(top,bottom+1):\n",
    "        sf_ans.append(sf[i][right])\n",
    "    right-=1\n",
    "    if(top<=bottom):\n",
    "        for i in range(right,left-1,-1):\n",
    "            sf_ans.append(sf[bottom][i])\n",
    "        bottom-=1\n",
    "    if(left<=right):\n",
    "        for i in range(bottom,top-1,-1):\n",
    "            sf_ans.append(sf[i][left])\n",
    "        left+=1\n",
    "print(sf_ans)\n"
   ]
  },
  {
   "cell_type": "markdown",
   "id": "e517f36a",
   "metadata": {},
   "source": [
    "### 3). Transpose Matrix"
   ]
  },
  {
   "cell_type": "code",
   "execution_count": null,
   "id": "d6aea3ab",
   "metadata": {},
   "outputs": [
    {
     "name": "stdout",
     "output_type": "stream",
     "text": [
      "[[1, 7, 13, 19, 25], [2, 8, 14, 20, 26], [3, 9, 15, 21, 27], [4, 10, 16, 22, 28], [5, 11, 17, 23, 29]]\n"
     ]
    }
   ],
   "source": [
    "# Square matrix \n",
    "tm = [\n",
    "    [1,  2,  3,  4,  5],\n",
    "    [7,  8,  9, 10, 11],\n",
    "    [13, 14, 15, 16, 17],\n",
    "    [19, 20, 21, 22, 23],\n",
    "    [25, 26, 27, 28, 29]\n",
    "    \n",
    "]\n",
    "\n",
    "r_size=len(tm)\n",
    "c_size=len(tm[0])\n",
    "for i in range(r_size):\n",
    "    for j in range(i,c_size):\n",
    "        temp=tm[i][j]\n",
    "        tm[i][j]=tm[j][i]\n",
    "        tm[j][i]=temp\n",
    "print(tm)"
   ]
  },
  {
   "cell_type": "code",
   "execution_count": 61,
   "id": "ebe28fe0",
   "metadata": {},
   "outputs": [
    {
     "name": "stdout",
     "output_type": "stream",
     "text": [
      "[[1, 7, 13, 19, 25], [2, 8, 14, 20, 26]]\n"
     ]
    }
   ],
   "source": [
    "# Not Square matrix\n",
    "tm = [\n",
    "    [1,  2],\n",
    "    [7,  8],\n",
    "    [13, 14],\n",
    "    [19, 20],\n",
    "    [25, 26]\n",
    "    \n",
    "]\n",
    "r_size=len(tm)\n",
    "c_size=len(tm[0])\n",
    "val=tm[0][0]\n",
    "rm=[[val]*r_size for i in range(c_size)]\n",
    "rm\n",
    "for i in range(r_size):\n",
    "    for j in range(c_size):\n",
    "        rm[j][i]=tm[i][j]\n",
    "print(rm)"
   ]
  },
  {
   "cell_type": "markdown",
   "id": "13db5d93",
   "metadata": {},
   "source": [
    "### 4). Rotate 90 degree(ClockWise)"
   ]
  },
  {
   "cell_type": "code",
   "execution_count": null,
   "id": "cf3098b5",
   "metadata": {},
   "outputs": [
    {
     "name": "stdout",
     "output_type": "stream",
     "text": [
      "[[25, 19, 13, 7, 1], [26, 20, 14, 8, 2], [27, 21, 15, 9, 3], [28, 22, 16, 10, 4], [29, 23, 17, 11, 5]]\n"
     ]
    }
   ],
   "source": [
    "matrix = [\n",
    "    [1,  2,  3,  4,  5],\n",
    "    [7,  8,  9, 10, 11],\n",
    "    [13, 14, 15, 16, 17],\n",
    "    [19, 20, 21, 22, 23],\n",
    "    [25, 26, 27, 28, 29]\n",
    "    \n",
    "]\n",
    "\n",
    "# Transpose the matrix first\n",
    "for i in range(s-1):\n",
    "    for j in range(i+1,len(matrix[0])):\n",
    "        temp=matrix[i][j]\n",
    "        matrix[i][j]=matrix[j][i]\n",
    "        matrix[j][i]=temp\n",
    "\n",
    "# Reverse the martix row-wise\n",
    "for i in range(s):\n",
    "    for j in range(len(matrix[0])//2):\n",
    "        matrix[i][j], matrix[i][len(matrix[0])-1-j]=matrix[i][len(matrix[0])-1-j],matrix[i][j] \n",
    "print(matrix)"
   ]
  },
  {
   "cell_type": "markdown",
   "id": "c333fe26",
   "metadata": {},
   "source": [
    "### 5). Rotate 90 degree(Anit-ClockWise)"
   ]
  },
  {
   "cell_type": "code",
   "execution_count": 71,
   "id": "191e81c6",
   "metadata": {},
   "outputs": [
    {
     "name": "stdout",
     "output_type": "stream",
     "text": [
      "[[1, 5, 9, 13], [2, 6, 10, 14], [3, 7, 11, 15], [4, 8, 12, 16]]\n",
      "[[4, 8, 12, 16], [3, 7, 11, 15], [2, 6, 10, 14], [1, 5, 9, 13]]\n"
     ]
    }
   ],
   "source": [
    "matrix = [\n",
    "    [1, 2, 3, 4],\n",
    "    [5, 6, 7, 8],\n",
    "    [9, 10, 11, 12],\n",
    "    [13, 14, 15, 16]\n",
    "]\n",
    "s=len(matrix)\n",
    "# Transpose the matrix first\n",
    "for i in range(s-1):\n",
    "    for j in range(i+1,s):\n",
    "        temp=matrix[i][j]\n",
    "        matrix[i][j]=matrix[j][i]\n",
    "        matrix[j][i]=temp\n",
    "print(matrix)\n",
    "# Reverse the martix row-wise\n",
    "for i in range(s):\n",
    "    for j in range(s//2):\n",
    "        matrix[j][i],matrix[s-1-j][i] = matrix[s-1-j][i],matrix[j][i]\n",
    "print(matrix)       "
   ]
  }
 ],
 "metadata": {
  "kernelspec": {
   "display_name": "Python 3",
   "language": "python",
   "name": "python3"
  },
  "language_info": {
   "codemirror_mode": {
    "name": "ipython",
    "version": 3
   },
   "file_extension": ".py",
   "mimetype": "text/x-python",
   "name": "python",
   "nbconvert_exporter": "python",
   "pygments_lexer": "ipython3",
   "version": "3.12.4"
  }
 },
 "nbformat": 4,
 "nbformat_minor": 5
}
