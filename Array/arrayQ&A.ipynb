{
 "cells": [
  {
   "cell_type": "code",
   "execution_count": 70,
   "id": "0f951ade",
   "metadata": {},
   "outputs": [
    {
     "name": "stdout",
     "output_type": "stream",
     "text": [
      "[5, 4, 3, 2]\n",
      "[2, 3, 4, 5]\n"
     ]
    }
   ],
   "source": [
    "# method(1):- Reverse the array elements\n",
    "# T.C - O(N), S.C - O(1)\n",
    "numbers = [2,3,4,5]\n",
    "numbers.reverse()\n",
    "print(numbers)\n",
    "\n",
    "# method(2):-\n",
    "# T.C - O(N), S.C - O(N)\n",
    "size = len(numbers) #4\n",
    "new_num = [0]*size\n",
    "for i in range(size):\n",
    "    new_num[i] = numbers[size-1-i]\n",
    "\n",
    "print(new_num)\n"
   ]
  },
  {
   "cell_type": "code",
   "execution_count": 71,
   "id": "2cfc5812",
   "metadata": {},
   "outputs": [
    {
     "name": "stdout",
     "output_type": "stream",
     "text": [
      "[2, 3, 4, 5]\n"
     ]
    }
   ],
   "source": [
    "i=0\n",
    "j= len(numbers)-1\n",
    "while(i<j):\n",
    "    temp = numbers[i]\n",
    "    numbers[i] = numbers[j]\n",
    "    numbers[j] = temp\n",
    "    i +=1\n",
    "    j -=1\n",
    "print(numbers)"
   ]
  },
  {
   "cell_type": "code",
   "execution_count": 72,
   "id": "a88b23c3",
   "metadata": {},
   "outputs": [
    {
     "name": "stdout",
     "output_type": "stream",
     "text": [
      "[9, 89, 7, 6, 5, 2]\n"
     ]
    }
   ],
   "source": [
    "numbers1 = [2,5,6,7,89,9]\n",
    "i=0\n",
    "j= len(numbers1)-1\n",
    "while(i<j):\n",
    "    numbers1[i], numbers1[j] = numbers1[j], numbers1[i]\n",
    "    i +=1\n",
    "    j -=1\n",
    "print(numbers1)"
   ]
  },
  {
   "cell_type": "code",
   "execution_count": 73,
   "id": "476abef7",
   "metadata": {},
   "outputs": [
    {
     "name": "stdout",
     "output_type": "stream",
     "text": [
      "89\n",
      "9\n"
     ]
    }
   ],
   "source": [
    "# find maxiiiiimum element in the array\n",
    "numbers1 = [2,5,6,7,89,9]\n",
    "maxiii = numbers1[0]\n",
    "for i in range(len(numbers1)):\n",
    "    if (numbers1[i] > maxiii):\n",
    "        maxiii = numbers1[i]\n",
    "\n",
    "second_maxiii = numbers1[0]\n",
    "for i in range(len(numbers1)):\n",
    "    if ((numbers1[i] != maxiii) and (numbers1[i] > second_maxiii)):\n",
    "        second_maxiii = numbers1[i]\n",
    "\n",
    "print(maxiii)\n",
    "print(second_maxiii)"
   ]
  },
  {
   "cell_type": "code",
   "execution_count": 74,
   "id": "6e5e2784",
   "metadata": {},
   "outputs": [
    {
     "ename": "NameError",
     "evalue": "name 'max' is not defined",
     "output_type": "error",
     "traceback": [
      "\u001b[0;31m---------------------------------------------------------------------------\u001b[0m",
      "\u001b[0;31mNameError\u001b[0m                                 Traceback (most recent call last)",
      "Cell \u001b[0;32mIn[74], line 1\u001b[0m\n\u001b[0;32m----> 1\u001b[0m \u001b[38;5;28;01mdel\u001b[39;00m \u001b[38;5;28;43mmax\u001b[39;49m\n\u001b[1;32m      2\u001b[0m x \u001b[38;5;241m=\u001b[39m \u001b[38;5;28mmax\u001b[39m(\u001b[38;5;241m5\u001b[39m, \u001b[38;5;241m20\u001b[39m)\n\u001b[1;32m      3\u001b[0m \u001b[38;5;28mprint\u001b[39m(x)\n",
      "\u001b[0;31mNameError\u001b[0m: name 'max' is not defined"
     ]
    }
   ],
   "source": [
    "del max\n",
    "x = max(5, 20)\n",
    "print(x)"
   ]
  },
  {
   "cell_type": "code",
   "execution_count": null,
   "id": "19e468ec",
   "metadata": {},
   "outputs": [
    {
     "name": "stdout",
     "output_type": "stream",
     "text": [
      "[2, 5, 6, 7, 9, 89]\n",
      "[2, 5, 6, 7, 9, 89]\n"
     ]
    }
   ],
   "source": [
    "numbers1 = [2,5,6,7,89,9]\n",
    "ans = numbers1.sort()\n",
    "ans1 = sorted(numbers1)\n",
    "print(numbers1)\n",
    "print(ans1)"
   ]
  },
  {
   "cell_type": "code",
   "execution_count": null,
   "id": "9c9793de",
   "metadata": {},
   "outputs": [
    {
     "name": "stdout",
     "output_type": "stream",
     "text": [
      "13\n"
     ]
    }
   ],
   "source": [
    "# fibonacci series\n",
    "# 0 1 1 2 3 5 8 13\n",
    "first_ele = 0\n",
    "second_ele = 1\n",
    "n = int(input('which elemn=ent u want'))\n",
    "ans = 0\n",
    "for i in range(3,n+1):\n",
    "    next = first_ele + second_ele\n",
    "    first_ele = second_ele\n",
    "    second_ele = next\n",
    "    ans = next\n",
    "print(ans)\n",
    "\n"
   ]
  },
  {
   "cell_type": "code",
   "execution_count": null,
   "id": "faaad411",
   "metadata": {},
   "outputs": [
    {
     "name": "stdout",
     "output_type": "stream",
     "text": [
      "[9, 89, 2, 5, 6, 7]\n"
     ]
    }
   ],
   "source": [
    "# 2 7 4 11 5 8\n",
    "# rotation1: 8 2 7 4 11 5\n",
    "# rotation2: 5 8 2 7 4 11\n",
    "# rotation3: 11 5 8 2 7 4\n",
    "# rotation4: 4 11 5 8 2 7\n",
    "numbers1 = [2,5,6,7,89,9]\n",
    "rotate = [0] * len(numbers1)\n",
    "size = len(numbers1) #6\n",
    "k = 2\n",
    "for i in range(k, size):\n",
    "    rotate[i] = numbers1[i-k]\n",
    "\n",
    "for i in range(k):\n",
    "    rotate[i] = numbers1[size-1-i]\n",
    "\n",
    "print(rotate)\n",
    "# Tc - O(N), Sc - O(N)\n"
   ]
  },
  {
   "cell_type": "code",
   "execution_count": null,
   "id": "d2e6855f",
   "metadata": {},
   "outputs": [
    {
     "name": "stdout",
     "output_type": "stream",
     "text": [
      "[9, 2, 5, 6, 7, 89]\n"
     ]
    }
   ],
   "source": [
    "arr = [2,5,6,7,89,9]\n",
    "temp = arr[len(arr)-1]\n",
    "for i in range(len(arr)-2,-1,-1):\n",
    "    arr[i+1] = arr[i]\n",
    "arr[0] = temp\n",
    "print(arr)"
   ]
  },
  {
   "cell_type": "code",
   "execution_count": null,
   "id": "90ac1f66",
   "metadata": {},
   "outputs": [],
   "source": []
  }
 ],
 "metadata": {
  "kernelspec": {
   "display_name": "Python 3",
   "language": "python",
   "name": "python3"
  },
  "language_info": {
   "codemirror_mode": {
    "name": "ipython",
    "version": 3
   },
   "file_extension": ".py",
   "mimetype": "text/x-python",
   "name": "python",
   "nbconvert_exporter": "python",
   "pygments_lexer": "ipython3",
   "version": "3.12.4"
  }
 },
 "nbformat": 4,
 "nbformat_minor": 5
}
