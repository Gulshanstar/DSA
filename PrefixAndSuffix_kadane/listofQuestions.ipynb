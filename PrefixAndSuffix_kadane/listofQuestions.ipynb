{
 "cells": [
  {
   "cell_type": "code",
   "execution_count": 136,
   "id": "234d0cf8",
   "metadata": {},
   "outputs": [
    {
     "name": "stdout",
     "output_type": "stream",
     "text": [
      "[[3], [5], [12], [45], [90], [3, 5], [5, 12], [12, 45], [45, 90], [3, 5, 12], [5, 12, 45], [12, 45, 90], [3, 5, 12, 45], [5, 12, 45, 90], [3, 5, 12, 45, 90]]\n"
     ]
    }
   ],
   "source": [
    "# Print all the possible subarray\n",
    "arr=[3,5,12,45,90]\n",
    "ans=[]\n",
    "for i in range(len(arr)):\n",
    "    sub=i+1\n",
    "    for j in range(len(arr)-i):\n",
    "        ans.append(arr[j:sub+j])\n",
    "print(ans)"
   ]
  },
  {
   "cell_type": "code",
   "execution_count": 137,
   "id": "55e4974f",
   "metadata": {},
   "outputs": [
    {
     "name": "stdout",
     "output_type": "stream",
     "text": [
      "[3, 8, 20, 65, 155]\n"
     ]
    }
   ],
   "source": [
    "# prefix sum\n",
    "arr1=[3,5,12,45,90]\n",
    "new_res=[]\n",
    "new_res.append(arr1[0])\n",
    "for i in range(1,len(arr1)):\n",
    "    new_res.append(arr1[i]+new_res[i-1])\n",
    "print(new_res)"
   ]
  },
  {
   "cell_type": "code",
   "execution_count": 138,
   "id": "0b32b5c4",
   "metadata": {},
   "outputs": [
    {
     "name": "stdout",
     "output_type": "stream",
     "text": [
      "[90, 135, 147, 152, 155]\n"
     ]
    }
   ],
   "source": [
    "# suffix sum\n",
    "arr2=[3,5,12,45,90]\n",
    "new_res1=[]\n",
    "n=len(arr2)-1\n",
    "new_res1.append(arr2[n])\n",
    "for i in range(n-1,-1,-1):\n",
    "    new_res1.append(new_res1[-1]+arr1[i])\n",
    "print(new_res1)"
   ]
  },
  {
   "cell_type": "markdown",
   "id": "9d2388db",
   "metadata": {},
   "source": [
    "### 1). Divide the array into two subrray with equal sum."
   ]
  },
  {
   "cell_type": "code",
   "execution_count": 139,
   "id": "976c5087",
   "metadata": {},
   "outputs": [
    {
     "name": "stdout",
     "output_type": "stream",
     "text": [
      "5\n"
     ]
    }
   ],
   "source": [
    "# M1) TC: O(n.n)\n",
    "arr3=[3,4,-2,5,8,20,-10,8]\n",
    "n1=len(arr3)\n",
    "for i in range(n1-1):\n",
    "    for j in range(i+1,n1):\n",
    "        part1=arr3[:i+1]\n",
    "        part2=arr3[j:]\n",
    "        # print(sum(part1), sum(part2))\n",
    "        if(sum(part1)==sum(part2)):\n",
    "            print(j)\n",
    "            break"
   ]
  },
  {
   "cell_type": "code",
   "execution_count": 140,
   "id": "d5b21bf9",
   "metadata": {},
   "outputs": [
    {
     "name": "stdout",
     "output_type": "stream",
     "text": [
      "36\n",
      "33 3\n",
      "29 7\n",
      "31 5\n",
      "26 10\n",
      "18 18\n",
      "got it\n",
      "-2 38\n",
      "8 28\n"
     ]
    }
   ],
   "source": [
    "# M2 TC: O(n)\n",
    "arr4=[3,4,-2,5,8,20,-10,8]\n",
    "total=sum(arr4)\n",
    "print(total)\n",
    "n2=len(arr4)\n",
    "for i in range(n2-1):\n",
    "    temp=total-sum(arr4[:i+1])\n",
    "    print(temp,sum(arr4[:i+1]))\n",
    "    if(temp==sum(arr4[:i+1])):\n",
    "        print('got it')"
   ]
  },
  {
   "cell_type": "markdown",
   "id": "c3895511",
   "metadata": {},
   "source": [
    "### 2). Largest Sum Contiguous Subarray"
   ]
  },
  {
   "cell_type": "code",
   "execution_count": 141,
   "id": "9ae0ce1d",
   "metadata": {},
   "outputs": [
    {
     "name": "stdout",
     "output_type": "stream",
     "text": [
      "[[4], [-6], [2], [8], [4, -6], [-6, 2], [2, 8], [4, -6, 2], [-6, 2, 8], [4, -6, 2, 8]]\n",
      "10\n"
     ]
    }
   ],
   "source": [
    "# M1) TC: O(n.n.n)\n",
    "# ls=[3,4,-5,8,-12,7,6-2]\n",
    "ls=[4,-6,2,8]\n",
    "ans=[]\n",
    "result=-500\n",
    "for i in range(len(ls)):\n",
    "    sub=i+1\n",
    "    for j in range(len(ls)-i):\n",
    "        result=max(result,sum(ls[j:sub+j]))   \n",
    "        ans.append(ls[j:sub+j])\n",
    "print(ans)\n",
    "print(result)"
   ]
  },
  {
   "cell_type": "code",
   "execution_count": 142,
   "id": "0ae5bfaa",
   "metadata": {},
   "outputs": [
    {
     "name": "stdout",
     "output_type": "stream",
     "text": [
      "4\n",
      "4\n",
      "4\n",
      "8\n",
      "8\n",
      "8\n",
      "8\n",
      "8\n",
      "10\n",
      "10\n",
      "10\n"
     ]
    }
   ],
   "source": [
    "# M2) TC:\n",
    "lsn=[4,-6,2,8]\n",
    "s=len(lsn)\n",
    "res=-500\n",
    "for i in range(s):\n",
    "    prefix=0\n",
    "    for j in range(i,s):\n",
    "        prefix+=lsn[j]\n",
    "        if(prefix>res):\n",
    "            res=prefix\n",
    "        print(res)\n",
    "print(res)"
   ]
  },
  {
   "cell_type": "code",
   "execution_count": null,
   "id": "f0696663",
   "metadata": {},
   "outputs": [],
   "source": [
    "# M3). Kadane's Algorithm"
   ]
  }
 ],
 "metadata": {
  "kernelspec": {
   "display_name": "Python 3",
   "language": "python",
   "name": "python3"
  },
  "language_info": {
   "codemirror_mode": {
    "name": "ipython",
    "version": 3
   },
   "file_extension": ".py",
   "mimetype": "text/x-python",
   "name": "python",
   "nbconvert_exporter": "python",
   "pygments_lexer": "ipython3",
   "version": "3.12.4"
  }
 },
 "nbformat": 4,
 "nbformat_minor": 5
}
