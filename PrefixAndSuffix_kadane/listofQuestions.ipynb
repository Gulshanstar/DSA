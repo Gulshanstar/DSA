{
 "cells": [
  {
   "cell_type": "code",
   "execution_count": 422,
   "id": "234d0cf8",
   "metadata": {},
   "outputs": [
    {
     "name": "stdout",
     "output_type": "stream",
     "text": [
      "[[3], [5], [12], [45], [90], [3, 5], [5, 12], [12, 45], [45, 90], [3, 5, 12], [5, 12, 45], [12, 45, 90], [3, 5, 12, 45], [5, 12, 45, 90], [3, 5, 12, 45, 90]]\n"
     ]
    }
   ],
   "source": [
    "# Print all the possible subarray\n",
    "arr=[3,5,12,45,90]\n",
    "ans=[]\n",
    "for i in range(len(arr)):\n",
    "    sub=i+1\n",
    "    for j in range(len(arr)-i):\n",
    "        ans.append(arr[j:sub+j])\n",
    "print(ans)"
   ]
  },
  {
   "cell_type": "code",
   "execution_count": 423,
   "id": "55e4974f",
   "metadata": {},
   "outputs": [
    {
     "name": "stdout",
     "output_type": "stream",
     "text": [
      "[3, 8, 20, 65, 155]\n"
     ]
    }
   ],
   "source": [
    "# prefix sum\n",
    "arr1=[3,5,12,45,90]\n",
    "new_res=[]\n",
    "new_res.append(arr1[0])\n",
    "for i in range(1,len(arr1)):\n",
    "    new_res.append(arr1[i]+new_res[i-1])\n",
    "print(new_res)"
   ]
  },
  {
   "cell_type": "code",
   "execution_count": 424,
   "id": "0b32b5c4",
   "metadata": {},
   "outputs": [
    {
     "name": "stdout",
     "output_type": "stream",
     "text": [
      "[90, 135, 147, 152, 155]\n"
     ]
    }
   ],
   "source": [
    "# suffix sum\n",
    "arr2=[3,5,12,45,90]\n",
    "new_res1=[]\n",
    "n=len(arr2)-1\n",
    "new_res1.append(arr2[n])\n",
    "for i in range(n-1,-1,-1):\n",
    "    new_res1.append(new_res1[-1]+arr1[i])\n",
    "print(new_res1)"
   ]
  },
  {
   "cell_type": "markdown",
   "id": "9d2388db",
   "metadata": {},
   "source": [
    "### 1). Divide the array into two subrray with equal sum."
   ]
  },
  {
   "cell_type": "code",
   "execution_count": 425,
   "id": "976c5087",
   "metadata": {},
   "outputs": [
    {
     "name": "stdout",
     "output_type": "stream",
     "text": [
      "5\n"
     ]
    }
   ],
   "source": [
    "# M1) TC: O(n.n)\n",
    "arr3=[3,4,-2,5,8,20,-10,8]\n",
    "n1=len(arr3)\n",
    "for i in range(n1-1):\n",
    "    for j in range(i+1,n1):\n",
    "        part1=arr3[:i+1]\n",
    "        part2=arr3[j:]\n",
    "        # print(sum(part1), sum(part2))\n",
    "        if(sum(part1)==sum(part2)):\n",
    "            print(j)\n",
    "            break"
   ]
  },
  {
   "cell_type": "code",
   "execution_count": 426,
   "id": "d5b21bf9",
   "metadata": {},
   "outputs": [
    {
     "name": "stdout",
     "output_type": "stream",
     "text": [
      "36\n",
      "33 3\n",
      "29 7\n",
      "31 5\n",
      "26 10\n",
      "18 18\n",
      "got it\n",
      "-2 38\n",
      "8 28\n"
     ]
    }
   ],
   "source": [
    "# M2 TC: O(n)\n",
    "arr4=[3,4,-2,5,8,20,-10,8]\n",
    "total=sum(arr4)\n",
    "print(total)\n",
    "n2=len(arr4)\n",
    "for i in range(n2-1):\n",
    "    temp=total-sum(arr4[:i+1])\n",
    "    print(temp,sum(arr4[:i+1]))\n",
    "    if(temp==sum(arr4[:i+1])):\n",
    "        print('got it')"
   ]
  },
  {
   "cell_type": "markdown",
   "id": "c3895511",
   "metadata": {},
   "source": [
    "### 2). Largest Sum Contiguous Subarray(Kadane's Algo.)"
   ]
  },
  {
   "cell_type": "code",
   "execution_count": 427,
   "id": "9ae0ce1d",
   "metadata": {},
   "outputs": [
    {
     "name": "stdout",
     "output_type": "stream",
     "text": [
      "[[3], [4], [-5], [8], [-12], [7], [4], [3, 4], [4, -5], [-5, 8], [8, -12], [-12, 7], [7, 4], [3, 4, -5], [4, -5, 8], [-5, 8, -12], [8, -12, 7], [-12, 7, 4], [3, 4, -5, 8], [4, -5, 8, -12], [-5, 8, -12, 7], [8, -12, 7, 4], [3, 4, -5, 8, -12], [4, -5, 8, -12, 7], [-5, 8, -12, 7, 4], [3, 4, -5, 8, -12, 7], [4, -5, 8, -12, 7, 4], [3, 4, -5, 8, -12, 7, 4]]\n",
      "11\n"
     ]
    }
   ],
   "source": [
    "# M1) TC: O(n.n.n)\n",
    "ls=[3,4,-5,8,-12,7,6-2]\n",
    "# ls=[4,-6,2,8]\n",
    "ans=[]\n",
    "result=-500\n",
    "for i in range(len(ls)):\n",
    "    sub=i+1\n",
    "    for j in range(len(ls)-i):\n",
    "        result=max(result,sum(ls[j:sub+j]))   \n",
    "        ans.append(ls[j:sub+j])\n",
    "print(ans)\n",
    "print(result)"
   ]
  },
  {
   "cell_type": "code",
   "execution_count": 428,
   "id": "0ae5bfaa",
   "metadata": {},
   "outputs": [
    {
     "name": "stdout",
     "output_type": "stream",
     "text": [
      "10\n"
     ]
    }
   ],
   "source": [
    "# M2) TC:\n",
    "lsn=[4,-6,2,8]\n",
    "s=len(lsn)\n",
    "res=-500\n",
    "for i in range(s):\n",
    "    prefix=0\n",
    "    for j in range(i,s):\n",
    "        prefix+=lsn[j]\n",
    "        if(prefix>res):\n",
    "            res=prefix\n",
    "        # print(res)\n",
    "print(res)"
   ]
  },
  {
   "cell_type": "code",
   "execution_count": 429,
   "id": "f0696663",
   "metadata": {},
   "outputs": [
    {
     "name": "stdout",
     "output_type": "stream",
     "text": [
      "11\n"
     ]
    }
   ],
   "source": [
    "# M3). Kadane's Algorithm\n",
    "ls2=[3,4,-5,8,-12,7,6-2]\n",
    "prefix=0\n",
    "maxi=ls2[0]\n",
    "for i in range(len(ls2)):\n",
    "    prefix+=ls2[i]\n",
    "    maxi=max(maxi,prefix)\n",
    "    if(prefix<0):\n",
    "        prefix=0\n",
    "print(prefix)\n"
   ]
  },
  {
   "cell_type": "code",
   "execution_count": 430,
   "id": "a3f0c913",
   "metadata": {},
   "outputs": [
    {
     "data": {
      "text/plain": [
       "11"
      ]
     },
     "execution_count": 430,
     "metadata": {},
     "output_type": "execute_result"
    }
   ],
   "source": [
    "import sys\n",
    "arr=[3,4,-5,8,-12,7,6-2]\n",
    "current_sum = 0\n",
    "max_sum = -sys.maxsize  # Equivalent to INT_MIN\n",
    "for i in range(len(arr)):\n",
    "    current_sum += arr[i]\n",
    "    max_sum=max(current_sum,max_sum)\n",
    "    if current_sum < 0:\n",
    "        current_sum = 0\n",
    "    \n",
    "max_sum"
   ]
  },
  {
   "cell_type": "markdown",
   "id": "fc4b1ee1",
   "metadata": {},
   "source": [
    "### 3). Max difference b/w 2 element"
   ]
  },
  {
   "cell_type": "code",
   "execution_count": 431,
   "id": "2259cd3d",
   "metadata": {},
   "outputs": [
    {
     "name": "stdout",
     "output_type": "stream",
     "text": [
      "7\n"
     ]
    }
   ],
   "source": [
    "# M1). TC:O(n.n)\n",
    "max_diff=[9,5,8,12,2,3,7,4] \n",
    "s=len(max_diff)\n",
    "ans=0\n",
    "for i in range(s-1):\n",
    "    for j in range(i+1,s):\n",
    "        if(max_diff[i]<max_diff[j]):\n",
    "            temp=max_diff[j]-max_diff[i]\n",
    "            ans=max(temp,ans)\n",
    "print(ans)"
   ]
  },
  {
   "cell_type": "code",
   "execution_count": 432,
   "id": "2ab4aa86",
   "metadata": {},
   "outputs": [
    {
     "name": "stdout",
     "output_type": "stream",
     "text": [
      "[12, 12, 12, 12, 7, 7, 7, 4]\n",
      "7\n"
     ]
    }
   ],
   "source": [
    "# M2). TC: O(n)\n",
    "max_diff=[9,5,8,12,2,3,7,4]\n",
    "size=len(max_diff)\n",
    "max_arr=[-1]*size\n",
    "max_arr[size-1]=max_diff[size-1]\n",
    "for i in range(size-2,-1,-1):\n",
    "    till_maxi=max(max_diff[i],max_arr[i+1])\n",
    "    max_arr[i]=till_maxi\n",
    "print(max_arr)\n",
    "uttar=0\n",
    "for i in range(size):\n",
    "    uttar=max(max_arr[i]-max_diff[i],uttar)\n",
    "print(uttar)\n"
   ]
  },
  {
   "cell_type": "code",
   "execution_count": 433,
   "id": "0196a3e2",
   "metadata": {},
   "outputs": [
    {
     "name": "stdout",
     "output_type": "stream",
     "text": [
      "7\n"
     ]
    }
   ],
   "source": [
    "# M3). TC: O(n)\n",
    "curr_max=max_diff[size-1]\n",
    "output_max=-sys.maxsize\n",
    "for i in range(size-2,-1,-1):\n",
    "    curr_max=max(curr_max,max_diff[i])\n",
    "    output_max=max(output_max,curr_max-max_diff[i])\n",
    "print(output_max)"
   ]
  },
  {
   "cell_type": "markdown",
   "id": "c1e81742",
   "metadata": {},
   "source": [
    "### 4). Trapping Rain Water"
   ]
  },
  {
   "cell_type": "code",
   "execution_count": 434,
   "id": "de33a9e0",
   "metadata": {},
   "outputs": [
    {
     "name": "stdout",
     "output_type": "stream",
     "text": [
      "[6, 6, 6, 6, 6, 3, 3, 0]\n",
      "10\n"
     ]
    }
   ],
   "source": [
    "# M1) T.C: O(N), S.C: O(N)\n",
    "import sys\n",
    "tw=[4,2,0,5,2,6,2,3]\n",
    "# if(len(tw)<2):\n",
    "    # return 0\n",
    "\n",
    "prefix_max=[-1]*len(tw)\n",
    "suffix_max=[-1]*len(tw)\n",
    "prefix_max[0]=0\n",
    "suffix_max[len(tw)-1]=0\n",
    "till_max=prefix_max[0]\n",
    "\n",
    "for i in range(1, len(tw)):\n",
    "    prefix_max[i]=max(prefix_max[i-1],tw[i-1])\n",
    "\n",
    "for i in range(len(tw)-2,-1,-1):\n",
    "    suffix_max[i]=max(suffix_max[i+1],tw[i+1])\n",
    "print(suffix_max)\n",
    "\n",
    "ans=0\n",
    "for i in range(len(tw)):\n",
    "    temp=min(prefix_max[i], suffix_max[i])\n",
    "    trap=temp-tw[i]\n",
    "    if(trap<0):\n",
    "        ans+=0\n",
    "    else:\n",
    "        ans+=trap\n",
    "print(ans)\n"
   ]
  },
  {
   "cell_type": "code",
   "execution_count": null,
   "id": "01cd3aec",
   "metadata": {},
   "outputs": [
    {
     "name": "stdout",
     "output_type": "stream",
     "text": [
      "10\n"
     ]
    }
   ],
   "source": [
    "# M2) TC: O(N), SC(Auxiliary): O(1)\n",
    "tw1=[4,2,0,5,2,6,2,3]\n",
    "l=len(tw1)\n",
    "# if(l<2):\n",
    "#     return 0\n",
    "maxi=0\n",
    "index=-1\n",
    "for i in range(l): \n",
    "    if(maxi<tw1[i]):\n",
    "        maxi=tw1[i]\n",
    "        index=i\n",
    "\n",
    "left_max=0\n",
    "right_max=0\n",
    "ans1=0\n",
    "if(index==l-1):\n",
    "    for i in range(l):\n",
    "        if(tw1[i]>left_max):\n",
    "            left_max=tw1[i]\n",
    "\n",
    "        water_store=left_max-tw1[i]\n",
    "        if(water_store<0):\n",
    "            ans1+=0\n",
    "        else:\n",
    "            ans1+=water_store\n",
    "else:\n",
    "    for i in range(index):\n",
    "        if(tw1[i]>left_max):\n",
    "            left_max=tw1[i]\n",
    "\n",
    "        water_store=left_max-tw1[i]\n",
    "        if(water_store<0):\n",
    "            ans1+=0\n",
    "        else:\n",
    "            ans1+=water_store\n",
    "    for i in range(l-1,index,-1):\n",
    "        if(tw1[i]>right_max):\n",
    "            right_max=tw1[i]\n",
    "\n",
    "        water_store=right_max-tw1[i]\n",
    "        if(water_store<0):\n",
    "            ans1+=0\n",
    "        else:\n",
    "            ans1+=water_store\n",
    "\n",
    "print(ans1)"
   ]
  },
  {
   "cell_type": "code",
   "execution_count": null,
   "id": "fd46a870",
   "metadata": {},
   "outputs": [],
   "source": []
  }
 ],
 "metadata": {
  "kernelspec": {
   "display_name": "Python 3",
   "language": "python",
   "name": "python3"
  },
  "language_info": {
   "codemirror_mode": {
    "name": "ipython",
    "version": 3
   },
   "file_extension": ".py",
   "mimetype": "text/x-python",
   "name": "python",
   "nbconvert_exporter": "python",
   "pygments_lexer": "ipython3",
   "version": "3.12.4"
  }
 },
 "nbformat": 4,
 "nbformat_minor": 5
}
